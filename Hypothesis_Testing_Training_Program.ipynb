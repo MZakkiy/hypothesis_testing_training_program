{
  "nbformat": 4,
  "nbformat_minor": 0,
  "metadata": {
    "colab": {
      "provenance": []
    },
    "kernelspec": {
      "name": "python3",
      "display_name": "Python 3"
    },
    "language_info": {
      "name": "python"
    }
  },
  "cells": [
    {
      "cell_type": "code",
      "source": [
        "!pip install gdown"
      ],
      "metadata": {
        "colab": {
          "base_uri": "https://localhost:8080/"
        },
        "id": "qSSgtaoMmGYW",
        "outputId": "57869392-f45d-45a9-eeae-59c21b38973e"
      },
      "execution_count": 17,
      "outputs": [
        {
          "output_type": "stream",
          "name": "stdout",
          "text": [
            "Requirement already satisfied: gdown in /usr/local/lib/python3.11/dist-packages (5.2.0)\n",
            "Requirement already satisfied: beautifulsoup4 in /usr/local/lib/python3.11/dist-packages (from gdown) (4.13.4)\n",
            "Requirement already satisfied: filelock in /usr/local/lib/python3.11/dist-packages (from gdown) (3.18.0)\n",
            "Requirement already satisfied: requests[socks] in /usr/local/lib/python3.11/dist-packages (from gdown) (2.32.3)\n",
            "Requirement already satisfied: tqdm in /usr/local/lib/python3.11/dist-packages (from gdown) (4.67.1)\n",
            "Requirement already satisfied: soupsieve>1.2 in /usr/local/lib/python3.11/dist-packages (from beautifulsoup4->gdown) (2.7)\n",
            "Requirement already satisfied: typing-extensions>=4.0.0 in /usr/local/lib/python3.11/dist-packages (from beautifulsoup4->gdown) (4.14.1)\n",
            "Requirement already satisfied: charset-normalizer<4,>=2 in /usr/local/lib/python3.11/dist-packages (from requests[socks]->gdown) (3.4.2)\n",
            "Requirement already satisfied: idna<4,>=2.5 in /usr/local/lib/python3.11/dist-packages (from requests[socks]->gdown) (3.10)\n",
            "Requirement already satisfied: urllib3<3,>=1.21.1 in /usr/local/lib/python3.11/dist-packages (from requests[socks]->gdown) (2.5.0)\n",
            "Requirement already satisfied: certifi>=2017.4.17 in /usr/local/lib/python3.11/dist-packages (from requests[socks]->gdown) (2025.7.14)\n",
            "Requirement already satisfied: PySocks!=1.5.7,>=1.5.6 in /usr/local/lib/python3.11/dist-packages (from requests[socks]->gdown) (1.7.1)\n"
          ]
        }
      ]
    },
    {
      "cell_type": "code",
      "execution_count": 18,
      "metadata": {
        "colab": {
          "base_uri": "https://localhost:8080/"
        },
        "collapsed": true,
        "id": "ndISBIy-cJWD",
        "outputId": "cebc0dfc-a524-4e2f-953e-6148b821b4c1"
      },
      "outputs": [
        {
          "output_type": "stream",
          "name": "stdout",
          "text": [
            "/usr/local/lib/python3.11/dist-packages/gdown/__main__.py:140: FutureWarning: Option `--id` was deprecated in version 4.3.1 and will be removed in 5.0. You don't need to pass it anymore to use a file ID.\n",
            "  warnings.warn(\n",
            "Downloading...\n",
            "From: https://drive.google.com/uc?id=1J5MzZvCdLi4kgzgT0ZrFVZOH-QNYQJq1\n",
            "To: /content/employee_performance_dataset.csv\n",
            "100% 36.8k/36.8k [00:00<00:00, 39.2MB/s]\n",
            "File downloaded to employee_performance_dataset.csv\n"
          ]
        }
      ],
      "source": [
        "# Replace 'your_file_id' with the actual file ID from your Google Drive link\n",
        "file_id = '1J5MzZvCdLi4kgzgT0ZrFVZOH-QNYQJq1'\n",
        "output_path = 'employee_performance_dataset.csv' # Replace with your desired output filename\n",
        "\n",
        "!gdown --id \"$file_id\" -O \"$output_path\"\n",
        "\n",
        "print(f\"File downloaded to {output_path}\")"
      ]
    },
    {
      "cell_type": "code",
      "source": [
        "import pandas as pd\n",
        "from scipy.stats import shapiro, levene\n",
        "from scipy.stats import ttest_ind"
      ],
      "metadata": {
        "id": "SonrWDFRdYiv"
      },
      "execution_count": 19,
      "outputs": []
    },
    {
      "cell_type": "code",
      "source": [
        "df = pd.read_csv('employee_performance_dataset.csv')\n",
        "df.head()"
      ],
      "metadata": {
        "colab": {
          "base_uri": "https://localhost:8080/",
          "height": 206
        },
        "id": "0gfg7gsEdR_r",
        "outputId": "f9e5d269-5e4b-4b2a-ca94-efade21cc8d2"
      },
      "execution_count": 20,
      "outputs": [
        {
          "output_type": "execute_result",
          "data": {
            "text/plain": [
              "   EmployeeID  Age Department    Education  ExperienceYears TrainingAttended  \\\n",
              "0           1   38  Marketing  High School             10.8              Yes   \n",
              "1           2   34      Sales     Bachelor              8.3              Yes   \n",
              "2           3   39         HR  High School             10.9              Yes   \n",
              "3           4   45    Finance  High School              4.4              Yes   \n",
              "4           5   33         HR  High School             13.7              Yes   \n",
              "\n",
              "   PerformanceScore  \n",
              "0              79.8  \n",
              "1              70.7  \n",
              "2              91.6  \n",
              "3              73.8  \n",
              "4              68.8  "
            ],
            "text/html": [
              "\n",
              "  <div id=\"df-cef7e61c-5016-447e-8593-64613af48ccc\" class=\"colab-df-container\">\n",
              "    <div>\n",
              "<style scoped>\n",
              "    .dataframe tbody tr th:only-of-type {\n",
              "        vertical-align: middle;\n",
              "    }\n",
              "\n",
              "    .dataframe tbody tr th {\n",
              "        vertical-align: top;\n",
              "    }\n",
              "\n",
              "    .dataframe thead th {\n",
              "        text-align: right;\n",
              "    }\n",
              "</style>\n",
              "<table border=\"1\" class=\"dataframe\">\n",
              "  <thead>\n",
              "    <tr style=\"text-align: right;\">\n",
              "      <th></th>\n",
              "      <th>EmployeeID</th>\n",
              "      <th>Age</th>\n",
              "      <th>Department</th>\n",
              "      <th>Education</th>\n",
              "      <th>ExperienceYears</th>\n",
              "      <th>TrainingAttended</th>\n",
              "      <th>PerformanceScore</th>\n",
              "    </tr>\n",
              "  </thead>\n",
              "  <tbody>\n",
              "    <tr>\n",
              "      <th>0</th>\n",
              "      <td>1</td>\n",
              "      <td>38</td>\n",
              "      <td>Marketing</td>\n",
              "      <td>High School</td>\n",
              "      <td>10.8</td>\n",
              "      <td>Yes</td>\n",
              "      <td>79.8</td>\n",
              "    </tr>\n",
              "    <tr>\n",
              "      <th>1</th>\n",
              "      <td>2</td>\n",
              "      <td>34</td>\n",
              "      <td>Sales</td>\n",
              "      <td>Bachelor</td>\n",
              "      <td>8.3</td>\n",
              "      <td>Yes</td>\n",
              "      <td>70.7</td>\n",
              "    </tr>\n",
              "    <tr>\n",
              "      <th>2</th>\n",
              "      <td>3</td>\n",
              "      <td>39</td>\n",
              "      <td>HR</td>\n",
              "      <td>High School</td>\n",
              "      <td>10.9</td>\n",
              "      <td>Yes</td>\n",
              "      <td>91.6</td>\n",
              "    </tr>\n",
              "    <tr>\n",
              "      <th>3</th>\n",
              "      <td>4</td>\n",
              "      <td>45</td>\n",
              "      <td>Finance</td>\n",
              "      <td>High School</td>\n",
              "      <td>4.4</td>\n",
              "      <td>Yes</td>\n",
              "      <td>73.8</td>\n",
              "    </tr>\n",
              "    <tr>\n",
              "      <th>4</th>\n",
              "      <td>5</td>\n",
              "      <td>33</td>\n",
              "      <td>HR</td>\n",
              "      <td>High School</td>\n",
              "      <td>13.7</td>\n",
              "      <td>Yes</td>\n",
              "      <td>68.8</td>\n",
              "    </tr>\n",
              "  </tbody>\n",
              "</table>\n",
              "</div>\n",
              "    <div class=\"colab-df-buttons\">\n",
              "\n",
              "  <div class=\"colab-df-container\">\n",
              "    <button class=\"colab-df-convert\" onclick=\"convertToInteractive('df-cef7e61c-5016-447e-8593-64613af48ccc')\"\n",
              "            title=\"Convert this dataframe to an interactive table.\"\n",
              "            style=\"display:none;\">\n",
              "\n",
              "  <svg xmlns=\"http://www.w3.org/2000/svg\" height=\"24px\" viewBox=\"0 -960 960 960\">\n",
              "    <path d=\"M120-120v-720h720v720H120Zm60-500h600v-160H180v160Zm220 220h160v-160H400v160Zm0 220h160v-160H400v160ZM180-400h160v-160H180v160Zm440 0h160v-160H620v160ZM180-180h160v-160H180v160Zm440 0h160v-160H620v160Z\"/>\n",
              "  </svg>\n",
              "    </button>\n",
              "\n",
              "  <style>\n",
              "    .colab-df-container {\n",
              "      display:flex;\n",
              "      gap: 12px;\n",
              "    }\n",
              "\n",
              "    .colab-df-convert {\n",
              "      background-color: #E8F0FE;\n",
              "      border: none;\n",
              "      border-radius: 50%;\n",
              "      cursor: pointer;\n",
              "      display: none;\n",
              "      fill: #1967D2;\n",
              "      height: 32px;\n",
              "      padding: 0 0 0 0;\n",
              "      width: 32px;\n",
              "    }\n",
              "\n",
              "    .colab-df-convert:hover {\n",
              "      background-color: #E2EBFA;\n",
              "      box-shadow: 0px 1px 2px rgba(60, 64, 67, 0.3), 0px 1px 3px 1px rgba(60, 64, 67, 0.15);\n",
              "      fill: #174EA6;\n",
              "    }\n",
              "\n",
              "    .colab-df-buttons div {\n",
              "      margin-bottom: 4px;\n",
              "    }\n",
              "\n",
              "    [theme=dark] .colab-df-convert {\n",
              "      background-color: #3B4455;\n",
              "      fill: #D2E3FC;\n",
              "    }\n",
              "\n",
              "    [theme=dark] .colab-df-convert:hover {\n",
              "      background-color: #434B5C;\n",
              "      box-shadow: 0px 1px 3px 1px rgba(0, 0, 0, 0.15);\n",
              "      filter: drop-shadow(0px 1px 2px rgba(0, 0, 0, 0.3));\n",
              "      fill: #FFFFFF;\n",
              "    }\n",
              "  </style>\n",
              "\n",
              "    <script>\n",
              "      const buttonEl =\n",
              "        document.querySelector('#df-cef7e61c-5016-447e-8593-64613af48ccc button.colab-df-convert');\n",
              "      buttonEl.style.display =\n",
              "        google.colab.kernel.accessAllowed ? 'block' : 'none';\n",
              "\n",
              "      async function convertToInteractive(key) {\n",
              "        const element = document.querySelector('#df-cef7e61c-5016-447e-8593-64613af48ccc');\n",
              "        const dataTable =\n",
              "          await google.colab.kernel.invokeFunction('convertToInteractive',\n",
              "                                                    [key], {});\n",
              "        if (!dataTable) return;\n",
              "\n",
              "        const docLinkHtml = 'Like what you see? Visit the ' +\n",
              "          '<a target=\"_blank\" href=https://colab.research.google.com/notebooks/data_table.ipynb>data table notebook</a>'\n",
              "          + ' to learn more about interactive tables.';\n",
              "        element.innerHTML = '';\n",
              "        dataTable['output_type'] = 'display_data';\n",
              "        await google.colab.output.renderOutput(dataTable, element);\n",
              "        const docLink = document.createElement('div');\n",
              "        docLink.innerHTML = docLinkHtml;\n",
              "        element.appendChild(docLink);\n",
              "      }\n",
              "    </script>\n",
              "  </div>\n",
              "\n",
              "\n",
              "    <div id=\"df-189c7b67-c363-44cf-bf27-a3bcd53f3d31\">\n",
              "      <button class=\"colab-df-quickchart\" onclick=\"quickchart('df-189c7b67-c363-44cf-bf27-a3bcd53f3d31')\"\n",
              "                title=\"Suggest charts\"\n",
              "                style=\"display:none;\">\n",
              "\n",
              "<svg xmlns=\"http://www.w3.org/2000/svg\" height=\"24px\"viewBox=\"0 0 24 24\"\n",
              "     width=\"24px\">\n",
              "    <g>\n",
              "        <path d=\"M19 3H5c-1.1 0-2 .9-2 2v14c0 1.1.9 2 2 2h14c1.1 0 2-.9 2-2V5c0-1.1-.9-2-2-2zM9 17H7v-7h2v7zm4 0h-2V7h2v10zm4 0h-2v-4h2v4z\"/>\n",
              "    </g>\n",
              "</svg>\n",
              "      </button>\n",
              "\n",
              "<style>\n",
              "  .colab-df-quickchart {\n",
              "      --bg-color: #E8F0FE;\n",
              "      --fill-color: #1967D2;\n",
              "      --hover-bg-color: #E2EBFA;\n",
              "      --hover-fill-color: #174EA6;\n",
              "      --disabled-fill-color: #AAA;\n",
              "      --disabled-bg-color: #DDD;\n",
              "  }\n",
              "\n",
              "  [theme=dark] .colab-df-quickchart {\n",
              "      --bg-color: #3B4455;\n",
              "      --fill-color: #D2E3FC;\n",
              "      --hover-bg-color: #434B5C;\n",
              "      --hover-fill-color: #FFFFFF;\n",
              "      --disabled-bg-color: #3B4455;\n",
              "      --disabled-fill-color: #666;\n",
              "  }\n",
              "\n",
              "  .colab-df-quickchart {\n",
              "    background-color: var(--bg-color);\n",
              "    border: none;\n",
              "    border-radius: 50%;\n",
              "    cursor: pointer;\n",
              "    display: none;\n",
              "    fill: var(--fill-color);\n",
              "    height: 32px;\n",
              "    padding: 0;\n",
              "    width: 32px;\n",
              "  }\n",
              "\n",
              "  .colab-df-quickchart:hover {\n",
              "    background-color: var(--hover-bg-color);\n",
              "    box-shadow: 0 1px 2px rgba(60, 64, 67, 0.3), 0 1px 3px 1px rgba(60, 64, 67, 0.15);\n",
              "    fill: var(--button-hover-fill-color);\n",
              "  }\n",
              "\n",
              "  .colab-df-quickchart-complete:disabled,\n",
              "  .colab-df-quickchart-complete:disabled:hover {\n",
              "    background-color: var(--disabled-bg-color);\n",
              "    fill: var(--disabled-fill-color);\n",
              "    box-shadow: none;\n",
              "  }\n",
              "\n",
              "  .colab-df-spinner {\n",
              "    border: 2px solid var(--fill-color);\n",
              "    border-color: transparent;\n",
              "    border-bottom-color: var(--fill-color);\n",
              "    animation:\n",
              "      spin 1s steps(1) infinite;\n",
              "  }\n",
              "\n",
              "  @keyframes spin {\n",
              "    0% {\n",
              "      border-color: transparent;\n",
              "      border-bottom-color: var(--fill-color);\n",
              "      border-left-color: var(--fill-color);\n",
              "    }\n",
              "    20% {\n",
              "      border-color: transparent;\n",
              "      border-left-color: var(--fill-color);\n",
              "      border-top-color: var(--fill-color);\n",
              "    }\n",
              "    30% {\n",
              "      border-color: transparent;\n",
              "      border-left-color: var(--fill-color);\n",
              "      border-top-color: var(--fill-color);\n",
              "      border-right-color: var(--fill-color);\n",
              "    }\n",
              "    40% {\n",
              "      border-color: transparent;\n",
              "      border-right-color: var(--fill-color);\n",
              "      border-top-color: var(--fill-color);\n",
              "    }\n",
              "    60% {\n",
              "      border-color: transparent;\n",
              "      border-right-color: var(--fill-color);\n",
              "    }\n",
              "    80% {\n",
              "      border-color: transparent;\n",
              "      border-right-color: var(--fill-color);\n",
              "      border-bottom-color: var(--fill-color);\n",
              "    }\n",
              "    90% {\n",
              "      border-color: transparent;\n",
              "      border-bottom-color: var(--fill-color);\n",
              "    }\n",
              "  }\n",
              "</style>\n",
              "\n",
              "      <script>\n",
              "        async function quickchart(key) {\n",
              "          const quickchartButtonEl =\n",
              "            document.querySelector('#' + key + ' button');\n",
              "          quickchartButtonEl.disabled = true;  // To prevent multiple clicks.\n",
              "          quickchartButtonEl.classList.add('colab-df-spinner');\n",
              "          try {\n",
              "            const charts = await google.colab.kernel.invokeFunction(\n",
              "                'suggestCharts', [key], {});\n",
              "          } catch (error) {\n",
              "            console.error('Error during call to suggestCharts:', error);\n",
              "          }\n",
              "          quickchartButtonEl.classList.remove('colab-df-spinner');\n",
              "          quickchartButtonEl.classList.add('colab-df-quickchart-complete');\n",
              "        }\n",
              "        (() => {\n",
              "          let quickchartButtonEl =\n",
              "            document.querySelector('#df-189c7b67-c363-44cf-bf27-a3bcd53f3d31 button');\n",
              "          quickchartButtonEl.style.display =\n",
              "            google.colab.kernel.accessAllowed ? 'block' : 'none';\n",
              "        })();\n",
              "      </script>\n",
              "    </div>\n",
              "\n",
              "    </div>\n",
              "  </div>\n"
            ],
            "application/vnd.google.colaboratory.intrinsic+json": {
              "type": "dataframe",
              "variable_name": "df",
              "summary": "{\n  \"name\": \"df\",\n  \"rows\": 1000,\n  \"fields\": [\n    {\n      \"column\": \"EmployeeID\",\n      \"properties\": {\n        \"dtype\": \"number\",\n        \"std\": 288,\n        \"min\": 1,\n        \"max\": 1000,\n        \"num_unique_values\": 1000,\n        \"samples\": [\n          522,\n          738,\n          741\n        ],\n        \"semantic_type\": \"\",\n        \"description\": \"\"\n      }\n    },\n    {\n      \"column\": \"Age\",\n      \"properties\": {\n        \"dtype\": \"number\",\n        \"std\": 6,\n        \"min\": 12,\n        \"max\": 61,\n        \"num_unique_values\": 42,\n        \"samples\": [\n          16,\n          28,\n          36\n        ],\n        \"semantic_type\": \"\",\n        \"description\": \"\"\n      }\n    },\n    {\n      \"column\": \"Department\",\n      \"properties\": {\n        \"dtype\": \"category\",\n        \"num_unique_values\": 5,\n        \"samples\": [\n          \"Sales\",\n          \"Engineering\",\n          \"HR\"\n        ],\n        \"semantic_type\": \"\",\n        \"description\": \"\"\n      }\n    },\n    {\n      \"column\": \"Education\",\n      \"properties\": {\n        \"dtype\": \"category\",\n        \"num_unique_values\": 4,\n        \"samples\": [\n          \"Bachelor\",\n          \"PhD\",\n          \"High School\"\n        ],\n        \"semantic_type\": \"\",\n        \"description\": \"\"\n      }\n    },\n    {\n      \"column\": \"ExperienceYears\",\n      \"properties\": {\n        \"dtype\": \"number\",\n        \"std\": 3.935913083618817,\n        \"min\": 0.0,\n        \"max\": 21.0,\n        \"num_unique_values\": 168,\n        \"samples\": [\n          3.1,\n          6.1,\n          2.3\n        ],\n        \"semantic_type\": \"\",\n        \"description\": \"\"\n      }\n    },\n    {\n      \"column\": \"TrainingAttended\",\n      \"properties\": {\n        \"dtype\": \"category\",\n        \"num_unique_values\": 2,\n        \"samples\": [\n          \"No\",\n          \"Yes\"\n        ],\n        \"semantic_type\": \"\",\n        \"description\": \"\"\n      }\n    },\n    {\n      \"column\": \"PerformanceScore\",\n      \"properties\": {\n        \"dtype\": \"number\",\n        \"std\": 10.462996238663681,\n        \"min\": 30.0,\n        \"max\": 100.0,\n        \"num_unique_values\": 385,\n        \"samples\": [\n          80.3,\n          44.8\n        ],\n        \"semantic_type\": \"\",\n        \"description\": \"\"\n      }\n    }\n  ]\n}"
            }
          },
          "metadata": {},
          "execution_count": 20
        }
      ]
    },
    {
      "cell_type": "markdown",
      "metadata": {
        "id": "c70c5197"
      },
      "source": [
        "## Data preparation\n",
        "\n",
        "Separate the `PerformanceScore` data into two groups based on whether `TrainingAttended` is 'Yes' or 'No'.\n"
      ]
    },
    {
      "cell_type": "code",
      "metadata": {
        "id": "1bd725a5"
      },
      "source": [
        "performance_yes = df[df['TrainingAttended'] == 'Yes']['PerformanceScore']\n",
        "performance_no = df[df['TrainingAttended'] == 'No']['PerformanceScore']"
      ],
      "execution_count": 21,
      "outputs": []
    },
    {
      "cell_type": "markdown",
      "metadata": {
        "id": "671bde8a"
      },
      "source": [
        "## Assumption checks\n",
        "\n",
        "Check the assumptions for the independent samples t-test, specifically normality and homogeneity of variances for the `PerformanceScore` in each group.\n",
        "\n",
        "Perform normality tests using Shapiro-Wilk test and homogeneity of variance test using Levene's test and print the results."
      ]
    },
    {
      "cell_type": "code",
      "metadata": {
        "colab": {
          "base_uri": "https://localhost:8080/"
        },
        "id": "a12e7937",
        "outputId": "cad8ce4e-d702-43b2-dece-3f1061e4847e"
      },
      "source": [
        "shapiro_yes_stat, shapiro_yes_p = shapiro(performance_yes)\n",
        "shapiro_no_stat, shapiro_no_p = shapiro(performance_no)\n",
        "\n",
        "levene_stat, levene_p = levene(performance_yes, performance_no)\n",
        "\n",
        "print(f\"Shapiro-Wilk test for TrainingAttended='Yes': statistic={shapiro_yes_stat}, p-value={shapiro_yes_p}\")\n",
        "print(f\"Shapiro-Wilk test for TrainingAttended='No': statistic={shapiro_no_stat}, p-value={shapiro_no_p}\")\n",
        "print(f\"Levene's test for homogeneity of variances: statistic={levene_stat}, p-value={levene_p}\")"
      ],
      "execution_count": 22,
      "outputs": [
        {
          "output_type": "stream",
          "name": "stdout",
          "text": [
            "Shapiro-Wilk test for TrainingAttended='Yes': statistic=0.9978515642024018, p-value=0.6402945974368559\n",
            "Shapiro-Wilk test for TrainingAttended='No': statistic=0.9923293202081024, p-value=0.04145986636510354\n",
            "Levene's test for homogeneity of variances: statistic=3.6987757209752585, p-value=0.05473666933558896\n"
          ]
        }
      ]
    },
    {
      "cell_type": "markdown",
      "metadata": {
        "id": "680e0069"
      },
      "source": [
        "## Perform t-test\n",
        "\n",
        "Conduct an independent samples t-test to compare the mean `PerformanceScore` between the two groups.\n",
        "\n",
        "Import the necessary function for the t-test and perform the independent samples t-test with equal_var=False.\n",
        "\n"
      ]
    },
    {
      "cell_type": "code",
      "metadata": {
        "colab": {
          "base_uri": "https://localhost:8080/"
        },
        "id": "940532b4",
        "outputId": "45cb3fda-b4fb-4ed5-df08-401ee42c7261"
      },
      "source": [
        "t_statistic, p_value = ttest_ind(performance_yes, performance_no, equal_var=False)\n",
        "\n",
        "print(f\"Independent t-test results:\")\n",
        "print(f\"T-statistic: {t_statistic}\")\n",
        "print(f\"P-value: {p_value}\")"
      ],
      "execution_count": 23,
      "outputs": [
        {
          "output_type": "stream",
          "name": "stdout",
          "text": [
            "Independent t-test results:\n",
            "T-statistic: 9.187893626181372\n",
            "P-value: 2.8582551803382495e-19\n"
          ]
        }
      ]
    },
    {
      "cell_type": "markdown",
      "metadata": {
        "id": "c2ba9aec"
      },
      "source": [
        "## Interpret results\n",
        "\n",
        "Analyze the output of the t-test to determine if there is a statistically significant difference in performance between the two groups.\n",
        "\n",
        "Examine the calculated t-statistic and p-value, compare the p-value to a chosen significance level (0.05), and formulate a conclusion about the impact of training attendance on performance.\n",
        "\n",
        "\n"
      ]
    },
    {
      "cell_type": "code",
      "metadata": {
        "colab": {
          "base_uri": "https://localhost:8080/"
        },
        "id": "62acd352",
        "outputId": "d0445add-246c-4d37-8fff-6f023398bdfb"
      },
      "source": [
        "alpha = 0.05\n",
        "\n",
        "print(f\"\\nConclusion:\")\n",
        "if p_value < alpha:\n",
        "    print(f\"With a p-value ({p_value}) less than the significance level ({alpha}), we reject the null hypothesis.\")\n",
        "    print(\"There is a statistically significant difference in the mean PerformanceScore between employees who attended training and those who did not.\")\n",
        "    if t_statistic > 0:\n",
        "        print(\"The mean PerformanceScore is higher for employees who attended training.\")\n",
        "    else:\n",
        "        print(\"The mean PerformanceScore is lower for employees who attended training.\")\n",
        "else:\n",
        "    print(f\"With a p-value ({p_value}) greater than or equal to the significance level ({alpha}), we fail to reject the null hypothesis.\")\n",
        "    print(\"There is no statistically significant difference in the mean PerformanceScore between employees who attended training and those who did not.\")\n"
      ],
      "execution_count": 24,
      "outputs": [
        {
          "output_type": "stream",
          "name": "stdout",
          "text": [
            "\n",
            "Conclusion:\n",
            "With a p-value (2.8582551803382495e-19) less than the significance level (0.05), we reject the null hypothesis.\n",
            "There is a statistically significant difference in the mean PerformanceScore between employees who attended training and those who did not.\n",
            "The mean PerformanceScore is higher for employees who attended training.\n"
          ]
        }
      ]
    },
    {
      "cell_type": "markdown",
      "metadata": {
        "id": "af1be0cb"
      },
      "source": [
        "## Data Analysis Key Findings\n",
        "\n",
        "*   The Shapiro-Wilk test indicated that the `PerformanceScore` for employees who attended training ('Yes') was normally distributed (p-value = 0.640), while the `PerformanceScore` for employees who did not attend training ('No') was not normally distributed (p-value = 0.041).\n",
        "*   Levene's test for homogeneity of variances showed that the variances of `PerformanceScore` between the two groups were equal (p-value = 0.055).\n",
        "*   An independent samples t-test (Welch's t-test, due to unequal variances) was conducted, resulting in a t-statistic of 9.188 and a p-value of 0.000.\n",
        "*   With a p-value (0.000) less than the significance level of 0.05, the null hypothesis was rejected, indicating a statistically significant difference in the mean `PerformanceScore` between the two groups.\n",
        "*   The positive t-statistic suggests that the mean `PerformanceScore` is higher for employees who attended training.\n",
        "\n",
        "## Insight\n",
        "\n",
        "Attending training is associated with a statistically significant increase in employee performance scores.\n"
      ]
    },
    {
      "cell_type": "code",
      "metadata": {
        "colab": {
          "base_uri": "https://localhost:8080/",
          "height": 564
        },
        "id": "e049592a",
        "outputId": "e84f9a90-f6c1-4f7a-b004-fbf9c8ce0263"
      },
      "source": [
        "import matplotlib.pyplot as plt\n",
        "import seaborn as sns\n",
        "\n",
        "plt.figure(figsize=(8, 6))\n",
        "sns.boxplot(x='TrainingAttended', y='PerformanceScore', data=df)\n",
        "plt.title('Performance Score by Training Attendance')\n",
        "plt.xlabel('Training Attended')\n",
        "plt.ylabel('Performance Score')\n",
        "plt.show()"
      ],
      "execution_count": 25,
      "outputs": [
        {
          "output_type": "display_data",
          "data": {
            "text/plain": [
              "<Figure size 800x600 with 1 Axes>"
            ],
            "image/png": "[encoded data removed]"
          },
          "metadata": {}
        }
      ]
    }
  ]
}